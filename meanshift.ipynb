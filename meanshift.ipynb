{
 "cells": [
  {
   "cell_type": "code",
   "execution_count": 16,
   "metadata": {},
   "outputs": [
    {
     "data": {
      "text/plain": [
       "True"
      ]
     },
     "execution_count": 16,
     "metadata": {},
     "output_type": "execute_result"
    }
   ],
   "source": [
    "import cv2\n",
    "\n",
    "image = cv2.imread('/Users/admin/Desktop/pictures/strawberries.jpg')\n",
    "spatialRadius = 35\n",
    "colorRadius = 60\n",
    "pyramidLevels = 3\n",
    "res = cv2.pyrMeanShiftFiltering(image, spatialRadius, colorRadius, pyramidLevels)\n",
    "cv2.imwrite('/Users/admin/Desktop/pictures/output_meanshift.jpg', res)"
   ]
  }
 ],
 "metadata": {
  "kernelspec": {
   "display_name": "Python 3",
   "language": "python",
   "name": "python3"
  },
  "language_info": {
   "codemirror_mode": {
    "name": "ipython",
    "version": 3
   },
   "file_extension": ".py",
   "mimetype": "text/x-python",
   "name": "python",
   "nbconvert_exporter": "python",
   "pygments_lexer": "ipython3",
   "version": "3.8.1"
  }
 },
 "nbformat": 4,
 "nbformat_minor": 4
}
