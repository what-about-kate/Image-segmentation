{
 "cells": [
  {
   "cell_type": "code",
   "execution_count": 6,
   "metadata": {},
   "outputs": [
    {
     "data": {
      "text/plain": [
       "True"
      ]
     },
     "execution_count": 6,
     "metadata": {},
     "output_type": "execute_result"
    }
   ],
   "source": [
    "# оконтуривание\n",
    "\n",
    "import numpy as np\n",
    "import cv2\n",
    "from matplotlib import pyplot as plt\n",
    "\n",
    "img = cv2.imread('/Users/admin/Desktop/pictures/coins2.jpg')\n",
    "gray = cv2.cvtColor(img, cv2.COLOR_BGR2GRAY)\n",
    "ret, thresh = cv2.threshold(gray, 0, 255, cv2.THRESH_BINARY_INV + cv2.THRESH_OTSU)\n",
    "\n",
    "# Noise removal\n",
    "kernel = np.ones((3,3), np.uint8)\n",
    "opening = cv2.morphologyEx(thresh, cv2.MORPH_OPEN,kernel, iterations = 2)\n",
    "\n",
    "# Sure background area\n",
    "sure_bg = cv2.dilate(opening, kernel, iterations = 3)\n",
    "\n",
    "# Finding sure foreground area\n",
    "dist_transform = cv2.distanceTransform(opening, cv2.DIST_L2, 5)\n",
    "ret, sure_fg = cv2.threshold(dist_transform, 0.7 * dist_transform.max(), 255, 0)\n",
    "\n",
    "# Finding unknown region\n",
    "sure_fg = np.uint8(sure_fg)\n",
    "unknown = cv2.subtract(sure_bg, sure_fg)\n",
    "\n",
    "# Marker labelling\n",
    "ret, markers = cv2.connectedComponents(sure_fg)\n",
    "\n",
    "# Add one to all labels so that sure background is not 0, but 1\n",
    "markers = markers + 1\n",
    "\n",
    "# Now, mark the region of unknown with zero\n",
    "markers[unknown == 255] = 0\n",
    "markers = cv2.watershed(img, markers)\n",
    "img[markers == -1] = [255,0,0]\n",
    "cv2.imwrite('/Users/admin/Desktop/pictures/output_watershed.jpg', img)\n",
    "\n",
    "#cv2.imshow('after watershed:', img)"
   ]
  },
  {
   "cell_type": "code",
   "execution_count": 16,
   "metadata": {},
   "outputs": [
    {
     "data": {
      "text/plain": [
       "True"
      ]
     },
     "execution_count": 16,
     "metadata": {},
     "output_type": "execute_result"
    }
   ],
   "source": [
    "# сегментация\n",
    "\n",
    "# First we load image, convert it to grayscale and threshold it with a suitable value \n",
    "# Taken Otsu's binarization, so it would find the best threshold value\n",
    "import cv2\n",
    "import numpy as np\n",
    "\n",
    "img = cv2.imread('/Users/admin/Desktop/pictures/kitten.jpg')\n",
    "gray = cv2.cvtColor(img, cv2.COLOR_BGR2GRAY)\n",
    "ret,thresh = cv2.threshold(gray, 0, 255, cv2.THRESH_BINARY + cv2.THRESH_OTSU)\n",
    "\n",
    "# Now we have to create the marker\n",
    "# Marker is the image with same size as the original one\n",
    "\n",
    "# Foreground region:\n",
    "# Erode main objects a little bit to be sure remaining region belongs to foreground\n",
    "fg = cv2.erode(thresh, None, iterations = 2)\n",
    "\n",
    "# Background region:\n",
    "# Dilate the thresholded image so that background region is reduced\n",
    "# But we are sure remaining black region is 100% background. Set it to 128\n",
    "bgt = cv2.dilate(thresh, None, iterations = 3)\n",
    "ret,bg = cv2.threshold(bgt, 1, 128, 1)\n",
    "\n",
    "# Now we add both fg and bg\n",
    "marker = cv2.add(fg, bg)\n",
    "\n",
    "# Convert it into 32SC1\n",
    "marker32 = np.int32(marker)\n",
    "\n",
    "# Finally apply watershed\n",
    "cv2.watershed(img, marker32)\n",
    "\n",
    "# Convert result back into uint8 image\n",
    "m = cv2.convertScaleAbs(marker32)\n",
    "\n",
    "#ret,thresh = cv2.threshold(m, 0, 255, cv2.THRESH_BINARY + cv2.THRESH_OTSU)\n",
    "#res = cv2.bitwise_and(img, img, mask = thresh)\n",
    "\n",
    "# Save the result\n",
    "cv2.imwrite('/Users/admin/Desktop/pictures/output_watershed.jpg', m)\n",
    "\n",
    "# https://stackoverflow.com/questions/11294859/how-to-define-the-markers-for-watershed-in-opencv"
   ]
  },
  {
   "cell_type": "code",
   "execution_count": null,
   "metadata": {},
   "outputs": [],
   "source": []
  }
 ],
 "metadata": {
  "kernelspec": {
   "display_name": "Python 3",
   "language": "python",
   "name": "python3"
  },
  "language_info": {
   "codemirror_mode": {
    "name": "ipython",
    "version": 3
   },
   "file_extension": ".py",
   "mimetype": "text/x-python",
   "name": "python",
   "nbconvert_exporter": "python",
   "pygments_lexer": "ipython3",
   "version": "3.8.1"
  }
 },
 "nbformat": 4,
 "nbformat_minor": 4
}
